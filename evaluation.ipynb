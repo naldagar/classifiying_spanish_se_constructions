{
  "nbformat": 4,
  "nbformat_minor": 0,
  "metadata": {
    "kernelspec": {
      "display_name": "Python 3",
      "language": "python",
      "name": "python3"
    },
    "language_info": {
      "codemirror_mode": {
        "name": "ipython",
        "version": 3
      },
      "file_extension": ".py",
      "mimetype": "text/x-python",
      "name": "python",
      "nbconvert_exporter": "python",
      "pygments_lexer": "ipython3",
      "version": "3.7.8"
    },
    "colab": {
      "name": "evaluation.ipynb",
      "provenance": [],
      "collapsed_sections": [
        "5oTKCgjxck9E",
        "1Ro957QNe7vu",
        "iVcFdfW72ral",
        "JxTcXkxn3MTq",
        "Tt321zzBezum",
        "M171loiR6oPR",
        "UW23ujMR3nvB",
        "Scu_jz5O38Cz",
        "boaSu3ER4KgE",
        "aSCJzNjLrUZv",
        "AppVE5Zi41-u",
        "LvXa3G_C5UQN",
        "4v6edDQRck9c",
        "msUkhVCYJt1V"
      ]
    }
  },
  "cells": [
    {
      "cell_type": "markdown",
      "metadata": {
        "id": "AhQhR3guoD9Q"
      },
      "source": [
        "![portada.png](data:image/png;base64,iVBORw0KGgoAAAANSUhEUgAAAnkAAACgCAIAAAD/xe04AAAAAXNSR0IArs4c6QAAAARnQU1BAACxjwv8YQUAAAAJcEhZcwAADsMAAA7DAcdvqGQAAAAhdEVYdENyZWF0aW9uIFRpbWUAMjAyMTowNzoxNCAxNzo0NDoyMUi/n2UAAB8mSURBVHhe7d0JWFVl/gfw0TRMAgMllExcElfMJbdQ3Eh5ZEot11KIDE3UIZMyGXWewCg1l9EE19HcB3McbSxHzSVExQ1XFBARxFBRUHFBRf1//7wv57nd9YC82Nj38zzjcN57zrnvec/tfN/f5XBvuUePHv2JiIiIlCkv/5+IiIjUYNYSERGpxawlIiJSi1lLRESkFrOWiIhILWYtERGRWsxaIiIitZi1REREajFriYiI1GLWEhERqcWsJSIiUotZS0REpBazloiISC1mLRERkVrMWiIiIrWYtURERGoxa4mIiNRi1hIREanFrCUiIlKLWUtERKQWs5aIiEgtZi0REZFazFoiIiK1mLVERERqMWuJiIjUYtYSERGpxawlIiJSi1lLRESkFrOWiIhILWYtERGRWsxaIiIitZi1REREajFriYiI1GLWEhERqcWsJSIiUotZS0REpBazloiISC1mLRERkVrMWiIiIrWYtURERGoxa4mIiNRi1hIREanFrCUiIlKLWUtERKQWs5aIiEgtZi0REZFazFoiIiK1mLVUdu7cubNz586QkJD27duXK+To6Ojj4zN16tRz5849evTo7t2748eP7927d25urtzGwN69e5s1ayY2LIHJkyfjKeS+FLt8+fKqVasGDBhQu3Zt8ewtW7YMDAzctGnTjRs3xDoZGRldu3aNjo4Wi0T0NMPVh0i1/Pz8lStXNmjQQL7sTDg4OISFhR09evT1118fMmQIAkluaWD79u3Ozs5yg+LbsGGD3JFKSFkciJV+uru7z5gx4+bNm7t378ZicHAwpiByYyJ6SrGuJeUuXrwYFBT03nvvIXHDw8OPHz+el5cnXn8oZFNSUr744ouKFStGRka+//77aWlpjRo1QvTKjQ106dLl6tWr2ConJ8fPz+/VV189ffq02I8ViG2Et6enp4eHh9yRMqi833jjDRwI+i+O9Pbt26IbOOT4+HjEMH745JNPBg4ciM5jkwcPHuBRsTkRPbXEhYBIEQRtr169kD3jxo1DzSdbTZw4ccLLy0u8Jm0WoCh/69ev37dv32vXrskmy86dO4daWefKj2Pnzp2oWXGk06ZNQ9kqW01gEDAU2mRi+PDhWh4T0dOKdS0pdOfOncmTJ2/fvn3mzJn4wcXFRT5gokmTJpMmTUICIURr164tWy1AfKIaRl3r6OgomyxLT0/fs2cP9q9n5RJDl/7617+i4J43b97YsWPt7e3lAyYwCCh8o6KitLgloqces5YUQsh99913w4YNGzx4cIUKFWSrBSgK69atW69ePTc3N9lkDmaIx44dww/iPinRaMWpU6fwb8uWLfWsXDIFBQULFy6Mi4sbPXp0//79bT5R+fLlBw4ciJXlMhE97Zi1pApCMTY2Fj/06dPHzs5ONFrxzDPPVKpUyc/Pr2rVqrLJnJs3byYnJ+v8/evdu3excufOnVEEyyYFkpKS1q9f7+XlFRQUZHNKIWC1Hj164IfKlSvjwEWjFYhzZHlYWJh2CzdGydfXd+rUqZhMPHz4UK5n1Y0bN/z9/cXmmoiICPlwIezqxIkTKM0bNmyIR9u1axcdHX3r1i35cCH0RDyqQYt4CCcdo4Fe+fj4ODo64iH0880335w1a5a41VysZtYPP/yAlcUOBW23hrKzszFTkWsUMToKKzCSBw4cmDhxore3t+ghYCo2cuTILVu23LlzB6+Z0NBQzITws9yG6PHh1U+kwu3bt4cPH67zDib9UlJSWrVqZfr715ycnPcKmb2HWR2E0/Tp0/Gf0oIFC/CzbNUhLS2tU6dOUVFRctmCBw8ebN26tXXr1uI/WLOQoNib3MCy69evDxkyRG5TJDw8XD5c2CXsSj5gABMgkZTC7t27jW4pRwvaL1++HBwcLJtMODg4BAYGZmRkiJ2Y2rhxo9H922K3RvAsAwYMkGsUMTwKS3B2Dh069Oc//1luYw6Oa+7cud26dcNM6MqVK3JLosfGrCVVRNbWqFEjPj5eNpWGXbt24Zo4fvx4FCiyqZC4Yars/4QGkY/gL/UphYAxRMUmfrOLkNiwYQOSRty6jPLr7NmziGoRw+7u7uvWrStW2Is/OhIphX2uXbtWJCj+nT17dlZWFhpTU1MHDRqExn79+mE2IzY0hM3xKHal3d3m6ek5Z86c8+fP379/HyvgX0T4jBkztJ3jDIptLRGvHLFb2WTZihUrsKbNrMXIrF69WmQ5juU///nPxYsXRQ8hLy/v+PHjX3/9tegkMGupdDFrSSFcYXHZGjFiRCnWmmKfa9askctFtmzZgvbIyEi5XFYQsQhaS38T/Dhu3rwZEhKCg8L+cXQiYk0hmZBtSBFE8sqVK/XHrZa1WqLDuHHjxB9WaXBco0ePRvihLJZNBkTWRkdHt23bFpuHhYVZGgfMEkJDQ7EypgU7d+6UreaoyFrkPaYCeOqYmBhLIwnoZFBQEHbIrKXSxawlhcQf/ODKhdpr2bJlKJWKVXiZEldh1K+oYmVTkXnz5uGJTDNYtb179yJj0Cv0TTaVBgzUrFmzcETdu3dPTk6WrRZg5Z9//hlBYjPGDIms/fDDD8UbyyjpUO1ZySGzRNYCBgGRr1WKZuFR1I5YGa8KvDZkqwkVWbthwwasNnHiRKO3Q0yhQG/UqBGzlkoX740ihVxdXRcuXIhSCcWfv79/jRo1cBULDAxcvHjxgQMHcnNz8RKUq+qDTZKSksQf/Ii7WjQfffQRLvcIG7mqZajh5DbF5Ovri5pP7qUIwikvL08ulJ7ExMT58+fjMJG4mFvIVgvQty5duqCmz8nJmTt3rtlPuLRk0aJFy5cvR6L/+9//9vPzK1++hNeEYcOG2bw1DI+OGjUqODgYyYdcl61lQpyjF154weYBvvzyy6+99hrGvHLlyrKJ6LExa0ktFxcXlDLp6ekxMTEBAQH5+flLly5FLdWmTRtnZ2dE79ixY0+dOqUzdFEZI2vlggkPD49q1arJhf9lGI3169djWEaOHNmwYUPZahXitk+fPu++++7mzZsPHz4sW/VB+K1evVrnE5mFOQGCVs/d5vb29qhZcd43bdpUrDnBY8LRYaqHF6HNwXF0dFy2bBlq9Oeee042ET02Zi2VBScnp379+iFl09LSrl27lpCQgHJqyJAh2dnZM2bMaNu27ZdffqnnTyxOnjyJuJ03b97/vylj4MKFC507d65evbr1vxf6X4HqOS4uDsPi4+ODEJWttiAb3nnnHRRwP//8M6pt2WpLaGgoToGVD3DWo2fPnq+88opcsAUlo7e39759+86ePSub1GvatCkmIvHx8V26dBkxYsSWLVsuXbp07949+TCRYsxaKlNIjipVqjRv3nzo0KGoHjIzM5cvX+7m5jZx4sQFCxYgNeV65iA/Tp8+7eDggCpKNhW5cuUK4tbd3V1PLYLnEgldXCgZyybLxeF4enq6urrKJn3q1KnTqlWrlJSUmzdvyiZbUMbpqUeta9KkiZ6/EhZwjlq0aIE5E86mbFIPxxgWFoYKHnMRzNV69OiBmRkacfgI/sDAwKioKMS/0V8SE5UWZi09SbjsDh48GJc58f5eRkaGfMCcGzduHDt2DFlSq1Yt2VQENQoCpmbNmpUqVZJNZQXPiM7LhVKCuvb48eMuLi7FTUEnJ6dq1aohTgoKCmRTmbD5sZpGnn/+efx7+fJlsVg2ULvPmTMHAzthwgSEvWjEWMXGxi5dunTkyJHt27fHqRw9evS5c+fEo0SlhVlLT17r1q19fHxwEUStI5vMOX/+fHJycoMGDZAosqnI9evXUVqhQJHLZQhlOury1NRU/aUkPSnly5dv2rRpRETE4cOH79+/n5OTk5iYuG3btrlz5wYEBLi7uyN6v/32W19fX3E7t9yM6LExa+nJq1Chgp57PsVXDiBrTd8o7tu3r+E3BQnIZj8/v3Hjxin9tZyrq2vjxo1PnjyZlpYmmx5b1apVPT09s7Oz7969K5v0yc3NvXLlioODg86PiiwtxS0ExbzkxRdfFItPBIYIk7ZGjRp169YtODgYpe2ZM2cOHjw4aNCgpKSkjz/+uCzf4qanHrOWSpn4uNpiJVxBQcHt27et30WMIkN85QDqEtFi0549e3788UcET8WKFWWTAth/p06dUJHHxMQUNxotwTi89NJLKPQvXbokm/RB3h86dKh+/friTdoyg6mG/rux7ty5k5CQgHGrV6+ebPp9QPq2atVqyZIl4eHhR48eXbduHUtbKi3MWiplqampSDiUnvoTDmXEL7/8gkrOyi8+xVcO4FJYp04d2WQVrpLiG350fh3Q43jrrbf69OmzatUqs5+Vb8WuXbsww4iOjpbLRVBvtW7dOj4+fuPGjfov98gwxAMyDIWa/juVSgXOOIpCuWBLSkoKTreXl5f+W5fLkp2dXb9+/fBqxOuNvxeg0sKspVKGK1ReXt6FCxd0fk3KrVu3UEnk5OQMGjTIyte+YgWkeOPGjXXemour5NmzZ3HF1PN1QI/JxcUlJCTk2WefDQsLEwGvBwpQVP8IHkeTL9ZFUg4YMKBRo0bz589HdStbrUIkr1+/Hnnv6+vbsmVL2VpWUAUuXLhQT1mP042Dwii9/fbblm7qxtxI51whPT199erVcsGyHTt2uLm5bdq0SS7bgg6U+DM9iMzi64lKk/izHPywdevWAwcOiEYrkMfffPNNVFRUQEBAx44dZas54ivfEZw63x0V2dygQYNSv0nYLG9v78jIyMTExKCgID0fJbF3796hQ4eicg0ODu7du7dsNYBZxfDhw5FJWMHKx3cICNrNmzcj6Z2dnUeOHGl671gZWLBgAeLW+v3PCOPZs2fjdPfp0wdHben9hkqVKomS1/pvTDHO7733np4E/fXXX7OysuLi4vS80Y3BRNmN2YP+FxuRbXhhEZUW8aU34qXVtm3b/fv3W/oAZLSjYsM1F2ta/3RcQXzlwIYNG+SyLZa+Dkid+/fvT5061aHwcyKXL1+en58vH/gttONR8VmSCGajD/o3hNJcz3cPYDXxYRR46pJ994BcLhHxecjF+u4BrIlJiWy1ALMQTJIsrWl4yHXr1rV5FOIzk7HyokWLLJ0XAY9iHaypp5NE+jFrqTShDvP09Bw4cOAHH3wgrm6jRo3CdRMZLDIAgXT+/Pl//etf2teI4vprJW8ElL8o78x+5YAl4qsIcJGVy2UCRzdnzhwcNZ66devWKODOnj2LYg4PISkRNshCrXz//PPPbX410O2y+k69EhNZi13t2bNHfMYIXgAYBO079UQ/EY3i6+qQYQcPHhTbWoHMGzt2LNbH0f33v/8VY4jRQP7NmjULT4GHsMO1a9cuW7YMP+vJWvEOB7adMmUK5nnaaxKwZ3QYZ6dH4Rf4YzD1f4UDkR7MWipNopqMjIzExcvmJ/+hqI2NjbVUrqEenT59uoiZksG1Vc9lvXTh8n3kyBHxna+WIG63bt1q6cCNYLVS+a74nMLv0pcb6IPsPHnypNzeAi1r8XNGRobZr5oXcCpRx2dlZYkNbcKswvSb7QUxhxOHLHJUQPqa/Wogsc7SpUtXr14tctoKzGkSEhLklkSlhFlLpenAgQNIBS3hLl26NH/+/Lfeeku8ZQq4GqLqRdGJ67L1IgylzGeffSa2KhkfHx9cr+XuyhYODQeIw8TBinoO2rVrN2HChP3794uCr1iwCVJk/Pjx2InYG+YxKMJQop0+fVpPOYuhGDBggNhWJy8vr5SUFLm9BYZZC+gJ+oNedevWTcyTtH4iGvX00xCq2++//x7hJyZteBXhtYRSPjMzU66hL2vRiHmDeAivK8zwMJKY8WgzOey5Z8+eOBbUuzrnQETFUg7/E682IqLiioiImDRpEmLM6INEiMgQ70MmIiJSi1lLRESkFrOWiIhILWYtERGRWsxaIiIitZi1REREajFriah44uLiGjZsWK7QpEmT0NKhQwexKAwcODA7O1usTETArCUiIlKLn2VBRESkFutaIiIitZi1REREajFriYiI1GLWEhERqcWsJSIiUotZS0REpBazloiISC1mLRERkVrMWiIiIrWYtURERGoxa4mIiNRi1hIREanFrCUiIlKLWUtERKQWs5aIiEgtZi0REZFazFoiIiK1mLVERERqMWuJiIjUYtYSERGpxawlIiJSi1lLRESkFrOWiIhILWYtkRKbN28ePnx4enq6XCaiPzBmLf1+3bt3b8aMGe8WCQ0NvX79unyM/ngyMzNHjBiBV8LUqVPv3r0rW5+E/Pz8KVOmoCecTpFO5R49eiR/JCqUkJCAhHvw4IFcNuHm5jZx4sQqVarI5TKBK9qSJUvGjBlTxs8rJCcnx8TE4Nnt7e1lky2oa9evXx8WFubu7i6b/nhKMG42YWCPHTsWEhJiZ2cnm54QvCZnz579l7/85Y98ikkn1rVkrEWLFsuXL/f39/fx8Vll4quvvnr++eflqn8YqGOuXbtWUFAgl3Xw9fWdP3/+H/wqXIJxI3oqMWuJiIjUYtZS8TzzzDP29vYVKlSQy0REZAt/X0vmbd68+ddff/3ggw/ksjnp6emRkZF5eXlisWbNmp9//rmzs/PDhw+/++67rVu3inbo2bPn4MGDxc/5+fmHDh3au3fv6dOnb9++XblyZW9v7969ezs6OooVzLLy+9rExMSvvvrqwYMHPj4+WofRK/RN3Ldi2K7Jzs7evXv34cOHz507h21dXV179erVsWNHTCbkGr/diSknJ6ewsLCXXnpJLhdasWLFjz/+KH52cHCw+fvarKystWvXHjt2DENhZ2fn4eHRt2/fV155pVy5cnKNon3WqFEDYxgbG4vjvXHjBvpZr169QYMGYRPDlfXTjg5H3bx5859++un8+fN3797FGWnTpk2/fv1wgHJVAzh9mzZt+uWXXzCA5cuXR69wcjt06FCxYkW5RonGDc+L3eJVd/PmTSyiD15eXtgzzotYQaP9vjYnJ2f58uWnTp3Cti4uLngV+fn5VapUSa5XBJe4M2fOfP/998nJyeLomjVrhqNDz+UaBu7fv49XBUYb5wUvYyu7BRyg4e9rtdchfkYLjhEvgMIViQpfiESmcOVdvHix+BmXv6lTp+JCLBaNpKamhoeHX79+XS4b2Lhx45o1a3DNksuPHuFih8sTkhiXP1y10YINETZffPEF8kOsYxYS8W9/+9u1a9fksgnDDhsy256ZmTlx4kRctS9fvlxQUIAeogXxEBMTY9hbzdGjR8eOHWvl2U1hZXQY3ZbLJvBEO3bsmD59OuY02pNevXp14cKFGBD0SrQI2M+wYcOQrFOmTEFXsT5W2Ldv36hRozBdkCuVCMYHu0WKr1u3TpxEnG6kO6ICnRHraDIyMiIiIjBV0rqHk4ijQK9yc3NFiyGd44Z5xrRp0/AqSklJuXfvHlrQE3QMMWZ6dGj/+uuvEYeY2OFRrC9OH15XOKc4oXK9QugnBhNDqh0LVsaAY9jRbW3YBRwCDgTt4pUJ2BwHi0PGgYsWQzgpn3zyiXaKsTL6hvWNdksEfA+ZbMNF5NKlSygj5PJvvfzyyyhJk5KS5HIRZCdm+qiZDKuuZ599dvTo0f7+/qjJxH2k2BYFJSqAhIQEsU4ZQFGFK3uPHj1QuKBARA/REhAQcOTIERypXEkxFGeIohEjRqDA0obI2dk5MDAQ1/pt27bhv0/RKKCI7NOnD6ILXcX66Hbbtm3feecdpM6dO3fkSiWCwf/ss8/efvtt8daCvb19//79q1WrFhcXJ1YQEJkrV65EKrds2VKr/nESO3fu/MYbb2D+VLJuoBBEzFetWhXpjoJe1Mfoia+v75gxYzD7QZiJNTUnT55E9fnpp5+2aNEC64vTh2nH66+/vmTJEsNubN++HYOJIcXAihasjAHHsGPwcbpFI2AWuGzZMhwIDke7wxmHiYPFIWPyYen1L6AgRulcvXp1rK+dTSINs5YswuW+8O9a38WFCaWAbDWBix2ucXv27MHlRjYVQs3h5ORk+h6gKeyhSpUqKG7k8hOCjEFPcM2VyyohD1BV48r+3HPPyaYiuL537dp17969KMVkUyGMZPfu3bWQE+rUqYNhR20nl0sEme3p6SkXCmEcGjVqlJ2dLZcLxcbG1qpVy+xb4k2bNsW/J06cEIvFgsnN8ePHcchGhwa1a9fGS2vLli1Gf4GGGZthfApIOEzsMBpaN65cuYLpgtk9Y9gx+NizFsyY+mByIw7ECA4ZjGYehvDSXbx4cePGjZs3by6biH6LWUsWaX/zEx0d7ebmJlvNadCgAarY8+fPy+XCLImPj+/QoYPpZS43Nxf7DAkJEUH+4YcfoqDBlU4+XCZwVU1JSZk5cyaeXXQDVdE333xTZp+VgRzFEFkaVaRI5cqVL168KJd/BzAFSUpKQgCbLdqQzfXr109MTJTLxYGsxSzHxcVFLv8WnjEzM/PWrVtyuRAi3+zQYT9169bVuoEBxDAaRbIGe8Ap0CY02AqHgAMRi4ZwyOgGDt/sPAx7mDt3rre3t9F8hcgQs5Zsq1ChAooqS9cscHR0xIx+37592tueaWlp+BdVl1jUpKenT548GQE8YcKElStXInTnz58/ZswYoztllEInUbLPmzevXbt2s2bNKpxOrJo+ffqgQYNQMMmVFMNVG7WapTcbRbtWcv0ePHz4MD8/33TmpClfvjw6jNXksm7IqtOnT2uTHiOTJk3C5MzoPY9KlSpZ6omTk5NWBIsBtDLIWFPEJ7qNlXEI4iFTeDocvunRoWNLlizBdOHgwYNGxTeRIWYt2YZy4dNPP61Zs6ZYXLt2LbJK/Kxp3759cnJyVlYWfsZFJy4uDi1Gb5DicoZ87dWr14ABA1DHiIsgrmL4uWrVqmKdMoB5APofGhqKHmqfy2FnZ4e8N31HVxHxG0Gjd901IgPKrDN6IIeQcFbiHw+hw1biypLq1aujaly0aJGY9JiaM2cO1pFrF0LsWQo2dEOLYfRHzGnEohEx+OJEoNtY2frR4fBNj07cfxAeHo64xWubcUuWMGup2PLy8gpMPgkIYenh4XHo0CH8nJmZmZ2dbfq7q8uXL9+6datx48ZyuQgKzRLUQyWGOUHt2rVffPFFuVykLLuB4ULMY0Dk8m9du3YNV22jgHmykEkNGjRITU3V3rowhNzKyMgwPbN61KpVC/8W6w1zPJfZGwiQrGfOnNG6gQHEMGIwxaIRDD5OgTbJw1bYrdnZDw4ZB47D1+6Z0lSoUAGNlStXHjp0KJ5669atZseHiFlLpQNFart27Y4cOXL9+nUUtZ6enuKmVkOojxHSRtc+XJt27dpl5cYTnXC9My1ibty4cfToUblQxMnJCVMB8eahBoXLmjVrLN2EjJ2jWjK9EKPF7NXZJlRRvr6+P/30k2kthUPYsmULau6yrPX16Nix47lCctmApRuL9IwbXiedOnVav3692bISTzdp0iSju7Tu3bu3ZMkSoxuD0YGdO3ei9NS6Ua1aNS8vL9NbqwDPhcHv3r279uZBs2bN8K/Z+wbQh7Nnz2JXctkcZ2fnjz/+ODY2Fk/HuCVTzFoqNeKPf3bv3o3CsVWrVrLVAEIOGbxixYoLFy6I6xHKXCRcfHw8igaxTok1adLk6tWrp06dEntGlCK/Z86caXq3C54LF3pc3MUdN1gf/cGaSAVL8YZDQx28evXqK1euYBGbo65at24dLq/79+8X6xQXLu4YpRkzZmjFIv7NysqKiorCpMTHx8fSLxqflBdeeGHIkCEIOSSKNlPBGP7www+o595//30ttzQ6xw0pjoCMiIg4cOCA+CwLpCPydePGjdOnT+/atStSU6wp4Fx36NBh2rRpCQkJ2CfGDSv/4x//wBkPDAw07Aa2xWBiSDGw2iBjwDHsGHzDt15QngYEBOBAcDjarVg4TBwsDhkPWblfQcAKH330EfLe8MYFIoGfG0XGbH7PD/j7+6MskwsGcK38+9//7u3tPXToUO3XZoZwZdyxY8eGDRtyc3OxQv369d98801c8nA527ZtG1rGjx8v3gPMz8/HrkyrUs1rr702atQow7uZ0tPTFy1aJG7LqlGjBuIKBROufcuWLcOVFHv28PAQa+LZY2JicE3ExRS1V5s2bdAN/IDLPcLA3dyH/qA/6DY6Lz6zyc3NDVvhSLUbaB+afFqWEbO7RQZY/9woo89gMjxq8XlSor137979+/cXP+tk+DlHEBQU1KVLF/xg+IxG4wYYB5ufG2XI5rhpMBTIucOHD2trIimxZ4SlWAFdQsfQPbxgQkJCLl68+M9//lN8bpSrqytekDjdZfO5UdqLE2cT5xRnFo2otr/99tuDBw+KdV599VV0EmeqBL/DpqcPs5aIiEgtTriIiIjUYtYSERGpxawlIiJSi1lLRESkFrOWiIhILWYtERGRWsxaIiIitZi1REREajFriYiI1GLWEhERqcWsJSIiUotZS0REpBazloiISC1mLRERkVrMWiIiIrWYtURERGoxa4mIiNRi1hIREanFrCUiIlKLWUtERKQWs5aIiEgtZi0REZFazFoiIiK1mLVERERqMWuJiIjUYtYSERGpxawlIiJSi1lLRESkFrOWiIhILWYtERGRWsxaIiIitZi1REREajFriYiI1GLWEhERqcWsJSIiUulPf/o/SD/gEAck0UQAAAAASUVORK5CYII=)\n",
        "\n",
        "This notebook is used to evaluate the models trained with the *SE*-corpus. It includes relevant imports and cleaning code. Then, on the basis of the gold standard test annotations and the predicted tags, the evaluation tagset is created. After that, the evaluation metrics are calculated and confussion matrixes are drawn."
      ]
    },
    {
      "cell_type": "markdown",
      "metadata": {
        "id": "5oTKCgjxck9E"
      },
      "source": [
        "# Relevant imports"
      ]
    },
    {
      "cell_type": "code",
      "metadata": {
        "trusted": true,
        "id": "l9nipDrOck9N"
      },
      "source": [
        "import csv\n",
        "import pandas as pd\n",
        "import numpy as np\n",
        "import os #explorar para qué sirve\n",
        "import re"
      ],
      "execution_count": null,
      "outputs": []
    },
    {
      "cell_type": "markdown",
      "metadata": {
        "id": "1Ro957QNe7vu"
      },
      "source": [
        "# Cleaning"
      ]
    },
    {
      "cell_type": "markdown",
      "metadata": {
        "id": "iVcFdfW72ral"
      },
      "source": [
        "### Test"
      ]
    },
    {
      "cell_type": "code",
      "metadata": {
        "id": "w0G8vwWA2XAf"
      },
      "source": [
        "test = pd.read_csv(\"testgs_SF_bueno_bueno.csv\", sep=\"\\t\", names=[\"ID\", \"FORM\", \"LEMMA\", \"UPOS\", \"XPOS\", \"FEATS\", \"HEAD\", \"DEPREL\", \"DEP\", \"MISC\", \"las\"])"
      ],
      "execution_count": null,
      "outputs": []
    },
    {
      "cell_type": "code",
      "metadata": {
        "id": "J6ucD6kG2wAy"
      },
      "source": [
        "# Dropping lines starting with '#'.\n",
        "\n",
        "ind_drop = test[test['ID'].apply(lambda x: x.startswith('# '))].index\n",
        "new_test = test.drop(ind_drop)"
      ],
      "execution_count": null,
      "outputs": []
    },
    {
      "cell_type": "code",
      "metadata": {
        "id": "p8Bakl112v4D"
      },
      "source": [
        "# Dropping multiword statement lines.\n",
        "\n",
        "ind_drop2 = new_test.loc[new_test['ID'].str.match('[0-9]+-')].index\n",
        "new_test2 = new_test.drop(ind_drop2)"
      ],
      "execution_count": null,
      "outputs": []
    },
    {
      "cell_type": "code",
      "metadata": {
        "id": "kmk1DWLo2vup"
      },
      "source": [
        "len(new_test2)"
      ],
      "execution_count": null,
      "outputs": []
    },
    {
      "cell_type": "code",
      "metadata": {
        "id": "Df-k1t5W2vjR"
      },
      "source": [
        "new_test2.to_csv(\"test_clean.csv\", sep=\"\\t\", index=False, float_format=\"%i\")"
      ],
      "execution_count": null,
      "outputs": []
    },
    {
      "cell_type": "code",
      "metadata": {
        "id": "fYbKFJXC8qSM"
      },
      "source": [
        "new_test2.head()"
      ],
      "execution_count": null,
      "outputs": []
    },
    {
      "cell_type": "markdown",
      "metadata": {
        "id": "JxTcXkxn3MTq"
      },
      "source": [
        "### Preds"
      ]
    },
    {
      "cell_type": "code",
      "metadata": {
        "trusted": true,
        "id": "_BWBluFMck9Q"
      },
      "source": [
        "preds = pd.read_csv(\"preds_210610.csv\", sep=\"\\t\", names=[\"ID\", \"FORM\", \"LEMMA\", \"UPOS\", \"XPOS\", \"FEATS\", \"HEAD\", \"DEPREL\", \"DEP\", \"MISC\", \"las\"])"
      ],
      "execution_count": null,
      "outputs": []
    },
    {
      "cell_type": "code",
      "metadata": {
        "id": "WW9Xz017ete7"
      },
      "source": [
        "# Dropping lines starting with '#'.\n",
        "\n",
        "ind_drop = preds[preds['ID'].apply(lambda x: x.startswith('# '))].index\n",
        "new_preds = preds.drop(ind_drop)"
      ],
      "execution_count": null,
      "outputs": []
    },
    {
      "cell_type": "code",
      "metadata": {
        "id": "OmsDuG6nYCwj"
      },
      "source": [
        "# Dropping multiword statement lines.\n",
        "\n",
        "ind_drop2 = new_preds.loc[new_preds['ID'].str.match('[0-9]+-')].index\n",
        "new_preds2 = new_preds.drop(ind_drop2)"
      ],
      "execution_count": null,
      "outputs": []
    },
    {
      "cell_type": "code",
      "metadata": {
        "id": "6xtMBt76BhBv"
      },
      "source": [
        "ind_drop2"
      ],
      "execution_count": null,
      "outputs": []
    },
    {
      "cell_type": "code",
      "metadata": {
        "id": "IdDKtIezJcVr"
      },
      "source": [
        "len(new_preds2)"
      ],
      "execution_count": null,
      "outputs": []
    },
    {
      "cell_type": "code",
      "metadata": {
        "id": "8en_eltOck9S"
      },
      "source": [
        "new_preds2.to_csv(\"preds_clean.csv\", sep=\"\\t\", index=False, float_format=\"%i\")"
      ],
      "execution_count": null,
      "outputs": []
    },
    {
      "cell_type": "code",
      "metadata": {
        "id": "TdXO1zX7837c"
      },
      "source": [
        "new_preds2.head()"
      ],
      "execution_count": null,
      "outputs": []
    },
    {
      "cell_type": "markdown",
      "metadata": {
        "id": "Tt321zzBezum"
      },
      "source": [
        "# Create evaluation dataset"
      ]
    },
    {
      "cell_type": "markdown",
      "metadata": {
        "id": "M171loiR6oPR"
      },
      "source": [
        "## Global\n"
      ]
    },
    {
      "cell_type": "markdown",
      "metadata": {
        "id": "UW23ujMR3nvB"
      },
      "source": [
        "### Test las"
      ]
    },
    {
      "cell_type": "code",
      "metadata": {
        "id": "tCagyHAGgffl"
      },
      "source": [
        "test = pd.read_csv(\"test_clean.csv\", sep=\"\\t\")\n",
        "test.head()"
      ],
      "execution_count": null,
      "outputs": []
    },
    {
      "cell_type": "code",
      "metadata": {
        "trusted": true,
        "id": "8Txi3KgFck9T"
      },
      "source": [
        "test[\"las\"] = test[\"HEAD\"].apply(str) + test[\"DEPREL\"]\n",
        "test.head()"
      ],
      "execution_count": null,
      "outputs": []
    },
    {
      "cell_type": "code",
      "metadata": {
        "id": "6lxKX7XoMLpK"
      },
      "source": [
        "#df2[\"las\"].to_csv(\"test_las.csv\", sep=\"\\t\")"
      ],
      "execution_count": null,
      "outputs": []
    },
    {
      "cell_type": "markdown",
      "metadata": {
        "id": "Scu_jz5O38Cz"
      },
      "source": [
        "### Preds las"
      ]
    },
    {
      "cell_type": "code",
      "metadata": {
        "id": "X_r4tfoiKGOm"
      },
      "source": [
        "preds = pd.read_csv(\"preds_clean.csv\", sep=\"\\t\")\n",
        "preds.head()"
      ],
      "execution_count": null,
      "outputs": []
    },
    {
      "cell_type": "code",
      "metadata": {
        "id": "lIdy5fRuKGot"
      },
      "source": [
        "preds[\"las\"] = preds[\"HEAD\"].apply(str) + preds[\"DEPREL\"]\n",
        "preds.head()"
      ],
      "execution_count": null,
      "outputs": []
    },
    {
      "cell_type": "code",
      "metadata": {
        "id": "x57iEQSmMbhc"
      },
      "source": [
        "# df3[\"las\"].to_csv(\"preds_las.csv\", sep=\"\\t\")"
      ],
      "execution_count": null,
      "outputs": []
    },
    {
      "cell_type": "markdown",
      "metadata": {
        "id": "boaSu3ER4KgE"
      },
      "source": [
        "### Eval"
      ]
    },
    {
      "cell_type": "code",
      "metadata": {
        "trusted": true,
        "id": "km3Ee9LLck9U"
      },
      "source": [
        "eval_las = pd.DataFrame(columns = [\"gs\", \"gsd\", \"result\", \"confusion\"])\n",
        "eval_las[\"gs\"] = test[\"las\"]\n",
        "eval_las[\"gsd\"] = preds[\"las\"]\n",
        "eval_las.head()"
      ],
      "execution_count": null,
      "outputs": []
    },
    {
      "cell_type": "code",
      "metadata": {
        "id": "W88esLbMck9W"
      },
      "source": [
        "eval_las.to_csv(\"eval_las.csv\", index=False, sep = \"\\t\")"
      ],
      "execution_count": null,
      "outputs": []
    },
    {
      "cell_type": "code",
      "metadata": {
        "id": "oyapaYRM4ckv"
      },
      "source": [
        "eval_uas = pd.DataFrame(columns = [\"gs\", \"gsd\", \"result\", \"confusion\"])\n",
        "eval_uas[\"gs\"] = test[\"HEAD\"]\n",
        "eval_uas[\"gsd\"] = preds[\"HEAD\"]\n",
        "eval_uas.head()"
      ],
      "execution_count": null,
      "outputs": []
    },
    {
      "cell_type": "code",
      "metadata": {
        "id": "n4VsKYXS4cY8"
      },
      "source": [
        "eval_uas.to_csv(\"eval_uas.csv\", index=False, sep = \"\\t\")"
      ],
      "execution_count": null,
      "outputs": []
    },
    {
      "cell_type": "markdown",
      "metadata": {
        "id": "5y0nGFOf4rhh"
      },
      "source": [
        "-----------------------"
      ]
    },
    {
      "cell_type": "markdown",
      "metadata": {
        "id": "vU1MRKOK4rW5"
      },
      "source": [
        "Manual review of the documents generated to check that cells match."
      ]
    },
    {
      "cell_type": "markdown",
      "metadata": {
        "id": "LWrQEMSB4rJ7"
      },
      "source": [
        "--------------\n",
        "\n"
      ]
    },
    {
      "cell_type": "markdown",
      "metadata": {
        "id": "aSCJzNjLrUZv"
      },
      "source": [
        "## SE"
      ]
    },
    {
      "cell_type": "markdown",
      "metadata": {
        "id": "AppVE5Zi41-u"
      },
      "source": [
        "### Test"
      ]
    },
    {
      "cell_type": "code",
      "metadata": {
        "id": "ccFlxPLErTmo"
      },
      "source": [
        "test.head() "
      ],
      "execution_count": null,
      "outputs": []
    },
    {
      "cell_type": "code",
      "metadata": {
        "id": "hKY_k4t2rwxr"
      },
      "source": [
        "test_se = test.loc[test['FORM'].str.match(r'se$')] #quitar el loc a ver qué pasa\n",
        "len(test_se)"
      ],
      "execution_count": null,
      "outputs": []
    },
    {
      "cell_type": "code",
      "metadata": {
        "id": "NfZ5oU44Dt-v"
      },
      "source": [
        "test_se[\"las\"].to_csv(\"test_se_las.csv\", index=False, sep = \"\\t\")\n",
        "test_se[\"HEAD\"].to_csv(\"test_se_uas.csv\", index=False, sep = \"\\t\")"
      ],
      "execution_count": null,
      "outputs": []
    },
    {
      "cell_type": "markdown",
      "metadata": {
        "id": "LvXa3G_C5UQN"
      },
      "source": [
        "### Preds"
      ]
    },
    {
      "cell_type": "code",
      "metadata": {
        "id": "kqYPkPeO5adL"
      },
      "source": [
        "preds.head()"
      ],
      "execution_count": null,
      "outputs": []
    },
    {
      "cell_type": "code",
      "metadata": {
        "id": "xX-DO72erhcT"
      },
      "source": [
        "preds_se = preds.loc[preds['FORM'].str.match(r'se$')]\n",
        "len(preds_se)"
      ],
      "execution_count": null,
      "outputs": []
    },
    {
      "cell_type": "code",
      "metadata": {
        "id": "tEcKRHSnuikJ"
      },
      "source": [
        "preds_se[\"las\"].to_csv(\"preds_se_las.csv\", index=False, sep = \"\\t\")\n",
        "preds_se[\"HEAD\"].to_csv(\"preds_se_uas.csv\", index=False, sep = \"\\t\")"
      ],
      "execution_count": null,
      "outputs": []
    },
    {
      "cell_type": "markdown",
      "metadata": {
        "id": "x_cj_Fql5sxy"
      },
      "source": [
        "### Eval se"
      ]
    },
    {
      "cell_type": "code",
      "metadata": {
        "id": "nXmyDLNSEVEM"
      },
      "source": [
        "test_se_las = pd.read_csv(\"test_se_las.csv\", sep = \"\\t\")\n",
        "print(len(test_se_las))\n",
        "test_se_uas = pd.read_csv(\"test_se_uas.csv\", sep = \"\\t\")\n",
        "len(test_se_uas)"
      ],
      "execution_count": null,
      "outputs": []
    },
    {
      "cell_type": "code",
      "metadata": {
        "id": "jeAhhN0tEuoc"
      },
      "source": [
        "preds_se_las = pd.read_csv(\"preds_se_las.csv\", sep = \"\\t\")\n",
        "print(len(preds_se_las))\n",
        "preds_se_uas = pd.read_csv(\"preds_se_uas.csv\", sep = \"\\t\")\n",
        "len(preds_se_uas)"
      ],
      "execution_count": null,
      "outputs": []
    },
    {
      "cell_type": "code",
      "metadata": {
        "id": "a4tS68Pvse0w"
      },
      "source": [
        "eval_se_las = pd.DataFrame(columns = [\"gs\", \"gsd\", \"result\", \"confusion\"])\n",
        "eval_se_las[\"gs\"] = test_se_las[\"las\"]\n",
        "eval_se_las[\"gsd\"] = preds_se_las[\"las\"]\n",
        "eval_se_las"
      ],
      "execution_count": null,
      "outputs": []
    },
    {
      "cell_type": "code",
      "metadata": {
        "id": "tcyOpamzwZu0"
      },
      "source": [
        "eval_se_las.to_csv(\"eval_se_las.csv\", index=False, sep = \"\\t\")"
      ],
      "execution_count": null,
      "outputs": []
    },
    {
      "cell_type": "code",
      "metadata": {
        "id": "6VsNoWMK6C_g"
      },
      "source": [
        "eval_se_uas = pd.DataFrame(columns = [\"gs\", \"gsd\", \"result\", \"confusion\"])\n",
        "eval_se_uas[\"gs\"] = test_se_uas[\"HEAD\"]\n",
        "eval_se_uas[\"gsd\"] = preds_se_uas[\"HEAD\"]\n",
        "eval_se_uas"
      ],
      "execution_count": null,
      "outputs": []
    },
    {
      "cell_type": "code",
      "metadata": {
        "id": "VqMYaUlg6C1I"
      },
      "source": [
        "eval_se_uas.to_csv(\"eval_se_uas.csv\", index=False, sep = \"\\t\")"
      ],
      "execution_count": null,
      "outputs": []
    },
    {
      "cell_type": "markdown",
      "metadata": {
        "id": "yiX_3LdF6Nzx"
      },
      "source": [
        "------------"
      ]
    },
    {
      "cell_type": "markdown",
      "metadata": {
        "id": "ur6PJs0r6No3"
      },
      "source": [
        "Revisión manual"
      ]
    },
    {
      "cell_type": "markdown",
      "metadata": {
        "id": "KVRikBeN6Nct"
      },
      "source": [
        "--------------"
      ]
    },
    {
      "cell_type": "markdown",
      "metadata": {
        "id": "4v6edDQRck9c"
      },
      "source": [
        "# NON-BINARY CATEGORIES"
      ]
    },
    {
      "cell_type": "code",
      "metadata": {
        "id": "LheEO_iCck9d"
      },
      "source": [
        "import csv\n",
        "\n",
        "with open(\"eval_se_uas.csv\") as filein, open(\"eval_se_uas_result.csv\",\"w\") as fileout: \n",
        "    reader = csv.DictReader(filein, delimiter = '\\t')\n",
        "    writer = csv.DictWriter(fileout, fieldnames = ['gs', 'gsd', 'result', 'confusion']) # hay que hacer una lista con todos los headers.\n",
        "    writer.writeheader() # con esto escribes explícitamente la cabecera nueva\n",
        "    \n",
        "    for row in reader:\n",
        "        if row['gs'] == '':\n",
        "            if row['gsd'] == row['gs']:\n",
        "                row['result'] = '00'    \n",
        "            else: \n",
        "                row['result'] = '01'\n",
        "        \n",
        "        elif row['gs'] != '':\n",
        "            if row['gsd'] == row['gs']:\n",
        "                row['result'] = '11'\n",
        "            else:\n",
        "                row['result'] = '10'      \n",
        "        writer.writerow(row)"
      ],
      "execution_count": null,
      "outputs": []
    },
    {
      "cell_type": "code",
      "metadata": {
        "id": "DIj-9TqWck9e"
      },
      "source": [
        "import csv\n",
        "\n",
        "with open(\"eval_se_uas_result.csv\") as filein, open(\"eval_se_uas_result_confusion.csv\",\"w\") as fileout: \n",
        "    reader = csv.DictReader(filein, delimiter = ',')\n",
        "    writer = csv.DictWriter(fileout, fieldnames = ['gs', 'gsd', 'result', 'confusion']) # hay que hacer una lista con todos los headers.\n",
        "    writer.writeheader() # con esto escribes explícitamente la cabecera nueva\n",
        "    \n",
        "    for row in reader:\n",
        "        if row['result'] == '00':\n",
        "            row['confusion'] = 'true negative'\n",
        "        if row['result'] == '01':\n",
        "            row['confusion'] = 'false negative'\n",
        "        if row['result'] == '10':\n",
        "            row['confusion'] = 'false positive'\n",
        "        if row['result'] == '11':\n",
        "            row['confusion'] = 'true positive'   \n",
        "        writer.writerow(row)"
      ],
      "execution_count": null,
      "outputs": []
    },
    {
      "cell_type": "code",
      "metadata": {
        "id": "_XioQsnPck9f"
      },
      "source": [
        " #import pandas as pd\n",
        " import os"
      ],
      "execution_count": null,
      "outputs": []
    },
    {
      "cell_type": "code",
      "metadata": {
        "id": "XsRgfRVtck9g"
      },
      "source": [
        "# Read files in <docs/> directory and store their names in a list if they end with <_confusion.csv> except the <verguenza_confusion.csv> file.\n",
        "files = [file for file in os.listdir('./') if (('_confusion.csv' in file))] # and '(file!='prueba.csv'))]' solamente es necesario si el nombre del fichero tmb incluye '_confusion.csv'"
      ],
      "execution_count": null,
      "outputs": []
    },
    {
      "cell_type": "code",
      "metadata": {
        "id": "vTdMjGIwck9h"
      },
      "source": [
        "files"
      ],
      "execution_count": null,
      "outputs": []
    },
    {
      "cell_type": "code",
      "metadata": {
        "scrolled": true,
        "id": "gxO0b0Quck9l"
      },
      "source": [
        "# Create a dictionary with 5 fileds:\n",
        "#  1- <files>: contains a list of files.\n",
        "#  2,3,4,5- Confusion Matrix Fields (true positive, false ...): contain empty lists, which will be filled with their corresponding values for each file.\n",
        "confusion_dict = {'true positive': [], 'false positive': [], 'true negative': [], 'false negative': []}\n",
        "\n",
        "# Loop through each file and through each Confusion Matrix Field to fill the values in the dictionary.\n",
        "for f in files:\n",
        "    df = pd.read_csv(\"./\" + f)\n",
        "    for metric in confusion_dict.keys():\n",
        "        confusion_dict[metric].append(sum(df['confusion']==metric))\n",
        "        \n",
        "confusion_dict['files'] = files"
      ],
      "execution_count": null,
      "outputs": []
    },
    {
      "cell_type": "code",
      "metadata": {
        "id": "MZl6mWz5ck9l"
      },
      "source": [
        "confusion_dict"
      ],
      "execution_count": null,
      "outputs": []
    },
    {
      "cell_type": "code",
      "metadata": {
        "id": "FEo5vJ4Mck9m"
      },
      "source": [
        "# Create a DataFrame Using the Dictionary with the Files and Confusion Matrix Values.\n",
        "# DataFrame = pd.DataFrame({'Column1': List_Of_Values_In_Column1, ..., 'ColumnN': List_Of_Values_In_ColumnN}) \n",
        "# (The length of the lists in the dictionary need to have all the same length.)\n",
        "confusion_df = pd.DataFrame(confusion_dict)"
      ],
      "execution_count": null,
      "outputs": []
    },
    {
      "cell_type": "code",
      "metadata": {
        "id": "am6v-4Itck9o"
      },
      "source": [
        "confusion_df.columns"
      ],
      "execution_count": null,
      "outputs": []
    },
    {
      "cell_type": "code",
      "metadata": {
        "id": "UgZVSPrhck9q"
      },
      "source": [
        "confusion_df = confusion_df[['files', 'false negative', 'false positive', 'true negative','true positive']].copy()"
      ],
      "execution_count": null,
      "outputs": []
    },
    {
      "cell_type": "code",
      "metadata": {
        "id": "3snLn4b-ck9s"
      },
      "source": [
        "# Show the 5 first rows of the Data Frame.\n",
        "confusion_df.head()"
      ],
      "execution_count": null,
      "outputs": []
    },
    {
      "cell_type": "code",
      "metadata": {
        "id": "Xrh_ajtvck9u"
      },
      "source": [
        "# Calculate the Precision, Recall, F1-Score, Negative Predictive Value, and Specificity for all the rows in the DataFrame.\n",
        "confusion_df['Precision'] = confusion_df['true positive']/(confusion_df['true positive'] + confusion_df['false positive'])\n",
        "confusion_df['Recall']    = confusion_df['true positive']/(confusion_df['true positive'] + confusion_df['false negative'])\n",
        "confusion_df['F1-Score']  = 2 * (confusion_df['Precision']*confusion_df['Recall'])/(confusion_df['Precision'] + confusion_df['Recall'])\n",
        "confusion_df['Negative Predictive Value'] = confusion_df['true negative']/(confusion_df['true negative'] + confusion_df['false negative'])\n",
        "confusion_df['Specificity'] = confusion_df['true negative']/(confusion_df['true negative'] + confusion_df['false positive'])"
      ],
      "execution_count": null,
      "outputs": []
    },
    {
      "cell_type": "code",
      "metadata": {
        "id": "vPh-9e6ock9x"
      },
      "source": [
        "# Show the 5 first rows of the Data Frame.\n",
        "confusion_df.head()"
      ],
      "execution_count": null,
      "outputs": []
    },
    {
      "cell_type": "code",
      "metadata": {
        "id": "KERz1HsKck9z"
      },
      "source": [
        "# Save the DataFrame as a csv file, (exclude the index which in this case is redundant).\n",
        "confusion_df.to_csv('eval_210610_metrics.csv', index=False)"
      ],
      "execution_count": null,
      "outputs": []
    },
    {
      "cell_type": "markdown",
      "metadata": {
        "id": "gTYQyqu5JpIM"
      },
      "source": [
        "--------------"
      ]
    },
    {
      "cell_type": "markdown",
      "metadata": {
        "id": "msUkhVCYJt1V"
      },
      "source": [
        "# *SE* CONFUSION MATRIX"
      ]
    },
    {
      "cell_type": "code",
      "metadata": {
        "id": "oxyE4aEJJv9a"
      },
      "source": [
        "from sklearn.metrics import confusion_matrix\n",
        "import matplotlib.pyplot as plt  \n",
        "import seaborn as sn\n",
        "import pandas as pd"
      ],
      "execution_count": null,
      "outputs": []
    },
    {
      "cell_type": "code",
      "metadata": {
        "id": "0MpYT2ysqq_u"
      },
      "source": [
        "eval_se_tags = pd.read_csv(\"eval_se_tags.csv\", delimiter = \"\\t\")\n",
        "eval_se_tags"
      ],
      "execution_count": null,
      "outputs": []
    },
    {
      "cell_type": "code",
      "metadata": {
        "id": "R1x9l2LPd1w_"
      },
      "source": [
        "y_true = eval_se_tags[\"gs\"]\n",
        "y_pred = eval_se_tags[\"gsd\"]"
      ],
      "execution_count": null,
      "outputs": []
    },
    {
      "cell_type": "code",
      "metadata": {
        "id": "DAm96evjNnur"
      },
      "source": [
        "labels = [\"expl\", \"obj\", \"iobj\", \"se-mark\"]\n",
        "cm = confusion_matrix(y_true, y_pred, labels)\n",
        "cm"
      ],
      "execution_count": null,
      "outputs": []
    },
    {
      "cell_type": "code",
      "metadata": {
        "id": "wTYEh-GQOVjP"
      },
      "source": [
        "! pip install -q scikit-plot"
      ],
      "execution_count": null,
      "outputs": []
    },
    {
      "cell_type": "code",
      "metadata": {
        "id": "lKFgT8L4OP-f"
      },
      "source": [
        "import scikitplot as skplt\n",
        "\n",
        "bestmodel_plot_no_normal_sinsf = skplt.metrics.plot_confusion_matrix(\n",
        "    y_true, \n",
        "    y_pred,\n",
        "    figsize=(12,12),\n",
        "    cmap=\"Blues\",\n",
        "    text_fontsize=\"large\",\n",
        "    title=\" \")"
      ],
      "execution_count": null,
      "outputs": []
    },
    {
      "cell_type": "code",
      "metadata": {
        "id": "74xnVlxbRrMw"
      },
      "source": [
        "bestmodel_plot_no_normal.figure.savefig('bestmodel_plot_no_normal.png')"
      ],
      "execution_count": null,
      "outputs": []
    },
    {
      "cell_type": "code",
      "metadata": {
        "id": "dcatccFMO2Qu"
      },
      "source": [
        "ancora_plot_normal = skplt.metrics.plot_confusion_matrix(\n",
        "    y_true, \n",
        "    y_pred,\n",
        "    figsize=(14,14),\n",
        "    cmap=\"Greens\",\n",
        "    title=\" \",\n",
        "    normalize=True)"
      ],
      "execution_count": null,
      "outputs": []
    },
    {
      "cell_type": "code",
      "metadata": {
        "id": "IZW1l20yQEw4"
      },
      "source": [
        "ancora_plot_normal.figure.savefig('gsd_plot_normal.png')"
      ],
      "execution_count": null,
      "outputs": []
    }
  ]
}